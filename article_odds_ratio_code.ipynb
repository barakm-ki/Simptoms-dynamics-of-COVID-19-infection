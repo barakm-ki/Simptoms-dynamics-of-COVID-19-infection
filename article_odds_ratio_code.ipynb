{
 "cells": [
  {
   "cell_type": "code",
   "execution_count": null,
   "metadata": {},
   "outputs": [],
   "source": [
    "import pandas as pd\n",
    "import numpy as np\n",
    "import statsmodels.api as sm\n",
    "from causallib.datasets import load_nhefs\n",
    "%matplotlib inline\n",
    "from causallib.datasets import load_nhefs\n",
    "from causallib.estimation import IPW\n",
    "from causallib.evaluation import PropensityEvaluator\n",
    "from sklearn.linear_model import LogisticRegression\n",
    "import statsmodels.stats.multitest as smm"
   ]
  },
  {
   "cell_type": "code",
   "execution_count": null,
   "metadata": {},
   "outputs": [],
   "source": [
    "run_on = \"quest\"\n",
    "#run_on = \"doc_child\"\n",
    "#run_on = \"doc_adult\""
   ]
  },
  {
   "cell_type": "code",
   "execution_count": null,
   "metadata": {},
   "outputs": [],
   "source": [
    "if run_on == \"quest\":\n",
    "    results_fname = \"odds_ratio_from_quest_final.txt\"\n",
    "elif run_on == \"doc_child\":    \n",
    "    results_fname = \"odds_ratio_from_doc_children_final.txt\"\n",
    "else :\n",
    "    results_fname = \"odds_ratio_from_doc_children_final.txt\"\n",
    "\n",
    "#results_fname = \"odds_ratio_from_doc_adults_p_value.txt\"\n",
    "#results_fname = \"odds_ratio_from_doc_children.txt\"\n",
    "folder = 'c:/corona_segal/'"
   ]
  },
  {
   "cell_type": "code",
   "execution_count": null,
   "metadata": {},
   "outputs": [],
   "source": [
    "if run_on == \"quest\":\n",
    "    test_matrix_for_ipw = pd.read_csv('c:/corona_segal/matrix_for_odds_ratio_quest.txt', sep=\"\\t\")\n",
    "else :    \n",
    "    test_matrix_for_ipw = pd.read_csv('c:/corona_segal/matrix_for_odds_ratio_doc.txt', sep=\"\\t\")"
   ]
  },
  {
   "cell_type": "code",
   "execution_count": null,
   "metadata": {},
   "outputs": [],
   "source": [
    "if run_on == \"doc_adult\":  \n",
    "    test_matrix_for_ipw = test_matrix_for_ipw[test_matrix_for_ipw['age']>=18]\n",
    "elif  run_on == \"doc_child\":  \n",
    "    test_matrix_for_ipw = test_matrix_for_ipw[test_matrix_for_ipw['age']<18]"
   ]
  },
  {
   "cell_type": "code",
   "execution_count": null,
   "metadata": {},
   "outputs": [],
   "source": []
  },
  {
   "cell_type": "code",
   "execution_count": null,
   "metadata": {},
   "outputs": [],
   "source": [
    "test_matrix_for_ipw['corona_test_date_t'] = pd.to_datetime(test_matrix_for_ipw['corona_test_date'], format='%Y%m%d')\n",
    "MIN_DATE = test_matrix_for_ipw[['corona_test_date_t']].min().min()\n",
    "test_matrix_for_ipw['test_date_correction'] = (test_matrix_for_ipw['corona_test_date_t']-MIN_DATE)/np.timedelta64(1,'D')"
   ]
  },
  {
   "cell_type": "code",
   "execution_count": null,
   "metadata": {},
   "outputs": [],
   "source": [
    "df1 = pd.DataFrame(columns=['Run_type','Signal_name','Signal_name_article'], dtype =str)\n",
    "df2 = pd.DataFrame(columns=['Odds Ratio', '5%', '95%','count_with_signal','p_value','FDR'], dtype =float)\n",
    "odds_results3 = pd.concat([df1,df2],axis=1)"
   ]
  },
  {
   "cell_type": "code",
   "execution_count": null,
   "metadata": {},
   "outputs": [],
   "source": [
    "odds_ratio_matrix = test_matrix_for_ipw[test_matrix_for_ipw['corona_ind']>=0]"
   ]
  },
  {
   "cell_type": "code",
   "execution_count": null,
   "metadata": {},
   "outputs": [],
   "source": [
    "if run_on == \"quest\":\n",
    "    symp_cols = ['chom_375_379', 'chom_38_40',\n",
    "                'chom_up_to_374',\n",
    "                  'symp_ayefut', 'symp_bchilot_akahot', 'symp_bilbul',\n",
    "                'symp_godesh_nazelet', 'symp_keev_garon', 'symp_keev_rosh',\n",
    "                'symp_keev_shririm', 'symp_kotzer_neshima', 'symp_none', 'symp_other',\n",
    "                'symp_shilshul', 'symp_shiul', 'symp_shiul_leicha', 'symp_shiul_yavesh',\n",
    "                'symp_taam_reach', 'symp_zmarmoret']\n",
    "else :\n",
    "    symp_cols = ['Abdominal pain', 'Arthralgia',\n",
    "           'Chest Pain or discomfort', 'Conjunctivitis', 'Cough', 'Diarrhea',\n",
    "           'Disturbance Of Skin Sensation',\n",
    "           'Disturbances Of Sensation Of Smell And Taste', 'Dizziness',\n",
    "           'Dyspnea and or Shortness of breath', 'Emotoional Disturbance',\n",
    "           'Fatigue', 'Fever',\n",
    "           'General symptoms ( Amnesia Chills Generalized pain Hypothermia)',\n",
    "           'Headache', 'Hearing Loss', 'Lympadenopathy', 'Myalgia',\n",
    "           'Nausea and or vomiting', 'Neuralgia', 'Palpitation', 'Rash',\n",
    "           'Runny nose and or nasal congestion', 'Sleep disturbance',\n",
    "           'Sore throat', 'Speech disturbance', 'Syncope', 'Tachycardia',\n",
    "           'Voice Disturbance', 'Weight loss']    "
   ]
  },
  {
   "cell_type": "code",
   "execution_count": null,
   "metadata": {},
   "outputs": [],
   "source": [
    "def run_odds_no_weight (name, my_list,odds_results3):\n",
    "    for column in symp_cols:\n",
    "            print(column)\n",
    "            curr_signal = column \n",
    "            count_signal = odds_ratio_matrix[odds_ratio_matrix['corona_ind']==1][curr_signal].sum()\n",
    "            if (count_signal>0):\n",
    "                new_list = [curr_signal] + my_list\n",
    "                x = odds_ratio_matrix[new_list]\n",
    "                y = odds_ratio_matrix['corona_ind']\n",
    "                x = sm.add_constant(x)\n",
    "                logit_mod = sm.Logit(y, x)\n",
    "                logit_res = logit_mod.fit()\n",
    "                params = logit_res.params\n",
    "                p_value = logit_res.pvalues[curr_signal]\n",
    "                conf = logit_res.conf_int()\n",
    "                conf['Odds Ratio'] = params\n",
    "                conf.columns = ['5%','95%','Odds Ratio']\n",
    "                conf_exp = np.exp(conf)\n",
    "                conf_exp['Signal_name'] = curr_signal\n",
    "                conf_exp['Run_type'] = name\n",
    "                conf_exp['count_with_signal'] = odds_ratio_matrix[[curr_signal]].sum()\n",
    "                conf_exp['p_value'] = p_value\n",
    "                odds_results3 = odds_results3.append(conf_exp.iloc[1],ignore_index=True) \n",
    "           \n",
    "    return odds_results3\n"
   ]
  },
  {
   "cell_type": "code",
   "execution_count": null,
   "metadata": {},
   "outputs": [],
   "source": [
    "odds_results3 = odds_results3.iloc[0:0]\n",
    "odds_results3 = run_odds_no_weight('Basic',[],odds_results3 )\n",
    "odds_results3 = run_odds_no_weight('Age_gender',['age', 'gender'],odds_results3 )\n",
    "odds_results3 = run_odds_no_weight('Age_gender_disease',['age', 'gender', 'id_with_disease'],odds_results3 )\n",
    "odds_results3 = run_odds_no_weight('Age_gender_disease_time',['age', 'gender', 'id_with_disease', 'test_date_correction'],odds_results3 )"
   ]
  },
  {
   "cell_type": "code",
   "execution_count": null,
   "metadata": {},
   "outputs": [],
   "source": [
    "list_of_runs = odds_results3.Run_type.unique()\n",
    "for run_type in list_of_runs :\n",
    "    print(run_type)\n",
    "    vec_p_value = odds_results3[odds_results3['Run_type']==run_type]['p_value']\n",
    "    fdr = fdrcorrection(vec_p_value)[1]\n",
    "    odds_results3.loc[odds_results3['Run_type']==run_type,'FDR'] = fdr"
   ]
  },
  {
   "cell_type": "markdown",
   "metadata": {},
   "source": [
    "## Write to file"
   ]
  },
  {
   "cell_type": "code",
   "execution_count": null,
   "metadata": {},
   "outputs": [],
   "source": [
    "odds_results3.to_csv(folder+results_fname, index=False)"
   ]
  },
  {
   "cell_type": "markdown",
   "metadata": {},
   "source": [
    "## IPW"
   ]
  },
  {
   "cell_type": "code",
   "execution_count": null,
   "metadata": {},
   "outputs": [],
   "source": []
  },
  {
   "cell_type": "code",
   "execution_count": null,
   "metadata": {},
   "outputs": [],
   "source": [
    "y_vec = test_matrix_for_ipw['corona_test_ind']\n",
    "x_mat = test_matrix_for_ipw[test_matrix_for_ipw.columns.difference(['id_with_disease','ipw', 'symp_none','corona_test_ind','numerator', 'test_date_correction','corona_ind','corona_test_date','corona_test_month','corona_test_date_t','recover_ind','recover_diff_date'])]"
   ]
  },
  {
   "cell_type": "code",
   "execution_count": null,
   "metadata": {},
   "outputs": [],
   "source": [
    "x_mat.columns"
   ]
  },
  {
   "cell_type": "code",
   "execution_count": null,
   "metadata": {},
   "outputs": [],
   "source": [
    "learner = LogisticRegression(solver=\"liblinear\")\n",
    "ipw = IPW(learner)\n",
    "ipw.fit(x_mat, y_vec)\n",
    "ipw_vec = ipw.compute_weights(x_mat, y_vec)\n",
    "test_matrix_for_ipw['ipw'] = ipw_vec"
   ]
  },
  {
   "cell_type": "code",
   "execution_count": null,
   "metadata": {},
   "outputs": [],
   "source": [
    "from sklearn import metrics\n",
    "plots=[\"roc_curve\", \"pr_curve\", \"weight_distribution\", \n",
    "        \"calibration\", \"covariate_balance_love\", \"covariate_balance_slope\"]\n",
    "metrics = {\"roc_auc\": metrics.roc_auc_score,\n",
    "            \"avg_precision\": metrics.average_precision_score,}\n",
    "evaluator = PropensityEvaluator(ipw)\n",
    "results = evaluator.evaluate_cv(x_mat, y_vec, y_vec, \n",
    "                                 plots=plots, metrics_to_evaluate=metrics)"
   ]
  },
  {
   "cell_type": "code",
   "execution_count": null,
   "metadata": {},
   "outputs": [],
   "source": [
    "odds_ratio_matrix_with_ipw = test_matrix_for_ipw[test_matrix_for_ipw['corona_ind']>=0]"
   ]
  },
  {
   "cell_type": "code",
   "execution_count": null,
   "metadata": {},
   "outputs": [],
   "source": [
    "n_row = odds_ratio_matrix_with_ipw.shape[0]"
   ]
  },
  {
   "cell_type": "code",
   "execution_count": null,
   "metadata": {},
   "outputs": [],
   "source": [
    "factor = odds_ratio_matrix_with_ipw['ipw'].sum()/n_row"
   ]
  },
  {
   "cell_type": "code",
   "execution_count": null,
   "metadata": {},
   "outputs": [],
   "source": [
    "test_vec_w3 = odds_ratio_matrix_with_ipw['ipw']/factor"
   ]
  },
  {
   "cell_type": "code",
   "execution_count": null,
   "metadata": {},
   "outputs": [],
   "source": []
  },
  {
   "cell_type": "code",
   "execution_count": null,
   "metadata": {},
   "outputs": [],
   "source": [
    "test_vec_y = odds_ratio_matrix_with_ipw['corona_ind']\n",
    "train_data = pd.DataFrame(columns=['Successes', 'Failures'], dtype =int)\n",
    "train_data['Successes'] = test_vec_y\n",
    "train_data['Failures'] = 1-test_vec_y"
   ]
  },
  {
   "cell_type": "code",
   "execution_count": null,
   "metadata": {},
   "outputs": [],
   "source": [
    "def run_odds_with_weight (name, my_list,odds_results3):\n",
    "    for column in symp_cols:\n",
    "            curr_signal = column \n",
    "            new_list = [curr_signal] + my_list\n",
    "            x = odds_ratio_matrix_with_ipw[new_list]\n",
    "            y = odds_ratio_matrix_with_ipw['corona_ind']\n",
    "            x = sm.add_constant(x)\n",
    "            logit_mod = sm.Logit(y, x)\n",
    "            #logit_res = logit_mod.fit()\n",
    "            logit_res = sm.GLM(train_data[['Successes','Failures']],x,family=sm.families.Binomial(sm.families.links.logit),var_weights=test_vec_w3).fit()\n",
    "            params = logit_res.params\n",
    "            conf = logit_res.conf_int()\n",
    "            p_value = logit_res.pvalues[curr_signal]\n",
    "            conf['Odds Ratio'] = params\n",
    "            conf.columns = ['5%','95%','Odds Ratio']\n",
    "            conf_exp = np.exp(conf)\n",
    "            conf_exp['Signal_name'] = curr_signal\n",
    "            conf_exp['Run_type'] = name\n",
    "            conf_exp['count_with_signal'] = odds_ratio_matrix_with_ipw[[curr_signal]].sum()\n",
    "            conf_exp['p_value'] = p_value\n",
    "            odds_results3 = odds_results3.append(conf_exp.iloc[1],ignore_index=True) \n",
    "           \n",
    "    return odds_results3"
   ]
  },
  {
   "cell_type": "code",
   "execution_count": null,
   "metadata": {},
   "outputs": [],
   "source": [
    "odds_results3 = run_odds_with_weight('ipw_Basic',[],odds_results3 )\n",
    "odds_results3 = run_odds_with_weight('ipw_Age_gender',['age', 'gender'],odds_results3 )\n",
    "odds_results3 = run_odds_with_weight('ipw_Age_gender_disease',['age', 'gender', 'id_with_disease'],odds_results3 )\n",
    "odds_results3 = run_odds_with_weight('ipw_Age_gender_disease_time',['age', 'gender', 'id_with_disease', 'test_date_correction'],odds_results3 )"
   ]
  },
  {
   "cell_type": "markdown",
   "metadata": {},
   "source": [
    "## FDR"
   ]
  },
  {
   "cell_type": "code",
   "execution_count": null,
   "metadata": {},
   "outputs": [],
   "source": [
    " odds_results3.Run_type.unique()"
   ]
  },
  {
   "cell_type": "code",
   "execution_count": null,
   "metadata": {},
   "outputs": [],
   "source": [
    "list_of_runs = odds_results3.Run_type.unique()\n",
    "for run_type in list_of_runs :\n",
    "    print(run_type)\n",
    "    vec_p_value = odds_results3[odds_results3['Run_type']==run_type]['p_value']\n",
    "    fdr = fdrcorrection(vec_p_value)[1]\n",
    "    odds_results3.loc[odds_results3['Run_type']==run_type,'FDR'] = fdr"
   ]
  },
  {
   "cell_type": "markdown",
   "metadata": {},
   "source": [
    "## rename"
   ]
  },
  {
   "cell_type": "code",
   "execution_count": null,
   "metadata": {},
   "outputs": [],
   "source": [
    "rename_dict = {'chom_38_40': 'Fever ',\n",
    "               'symp_taam_reach': 'Loss of taste or smell',\n",
    "               'symp_bilbul': 'Confusion',\n",
    "               'symp_shilshul': 'Diarrhea',\n",
    "               'symp_zmarmoret': 'Chills',\n",
    "               'symp_ayefut': 'Fatigue',\n",
    "               'symp_bchilot_akahot': 'Nausea or vomiting',\n",
    "               'symp_godesh_nazelet': 'Runny nose',\n",
    "               'symp_keev_garon': 'Sore throat',\n",
    "               'symp_keev_rosh': 'Headache',\n",
    "               'symp_keev_shririm': 'Muscle pain',\n",
    "               'symp_kotzer_neshima': 'Shortness of breath',\n",
    "               'symp_other': 'Other symptom',\n",
    "               'symp_shiul_leicha': 'Moist cough',\n",
    "               'symp_shiul_yavesh': 'Dry cough',\n",
    "               'symp_shiul': 'Cough',\n",
    "               'chom_375_379': 'Body temperature 37.5-38',\n",
    "               'chom_up_to_374':'Body temperature under 37.5',\n",
    "               'symp_none': 'No symptoms'\n",
    "               }\n",
    "   "
   ]
  },
  {
   "cell_type": "code",
   "execution_count": null,
   "metadata": {},
   "outputs": [],
   "source": [
    "for col in symp_cols:\n",
    "    odds_results3.loc[odds_results3['Signal_name']==col,'Signal_name_article'] = rename_dict[col]\n"
   ]
  },
  {
   "cell_type": "code",
   "execution_count": null,
   "metadata": {},
   "outputs": [],
   "source": [
    "odds_results3.to_csv(folder+results_fname, index=False)"
   ]
  },
  {
   "cell_type": "code",
   "execution_count": null,
   "metadata": {},
   "outputs": [],
   "source": []
  },
  {
   "cell_type": "code",
   "execution_count": null,
   "metadata": {},
   "outputs": [],
   "source": []
  }
 ],
 "metadata": {
  "kernelspec": {
   "display_name": "Python 3",
   "language": "python",
   "name": "python3"
  },
  "language_info": {
   "codemirror_mode": {
    "name": "ipython",
    "version": 3
   },
   "file_extension": ".py",
   "mimetype": "text/x-python",
   "name": "python",
   "nbconvert_exporter": "python",
   "pygments_lexer": "ipython3",
   "version": "3.8.3"
  }
 },
 "nbformat": 4,
 "nbformat_minor": 2
}
