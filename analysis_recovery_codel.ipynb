{
 "cells": [
  {
   "cell_type": "code",
   "execution_count": null,
   "metadata": {},
   "outputs": [],
   "source": [
    "import lifelines\n",
    "from lifelines import CoxPHFitter\n",
    "from lifelines import CoxTimeVaryingFitter\n",
    "import pandas as pd\n",
    "import numpy as np\n",
    "import matplotlib.pyplot as plt\n",
    "import seaborn as sns"
   ]
  },
  {
   "cell_type": "code",
   "execution_count": null,
   "metadata": {},
   "outputs": [],
   "source": [
    "def create_survival_data(data_df, id_col, index_time_col, outcome_time_col,\n",
    "                         followup_end_time, followup_max_time_from_index=np.inf,\n",
    "                         censoring_time_col=None):\n",
    "    tmp_data_df = data_df.copy()\n",
    "    if censoring_time_col is None:\n",
    "        censoring_time_col = 'censoring_time_col'\n",
    "        tmp_data_df[censoring_time_col] = np.nan\n",
    "\n",
    "    survival_df = tmp_data_df[[id_col, index_time_col, outcome_time_col, censoring_time_col]].copy()\n",
    "    survival_df['event_time_from_index'] = (survival_df[outcome_time_col] - survival_df[index_time_col])\n",
    "    survival_df['censoring_time_from_index'] = (survival_df[censoring_time_col] - survival_df[index_time_col])\n",
    "    survival_df['followup_end_time_from_index'] = (followup_end_time - survival_df[index_time_col])\n",
    "    survival_df['max_time_from_index'] = followup_max_time_from_index\n",
    "    survival_df['earliest_censoring_time_from_index'] = survival_df[['censoring_time_from_index',\n",
    "                                                                     'followup_end_time_from_index',\n",
    "                                                                     'max_time_from_index']].min(axis=1)\n",
    "    # Seperate into 2 types of people:\n",
    "    # (1) those who have an event before followup_max_time_from_index, followup_end_time_from_index and censoring_time_from_index\n",
    "    idx_event = ( (survival_df[outcome_time_col].notna()) &  \\\n",
    "                  (survival_df['event_time_from_index']<=followup_max_time_from_index) & \\\n",
    "                  (survival_df['event_time_from_index']<=survival_df['earliest_censoring_time_from_index']) )\n",
    "    survival_df.loc[idx_event, 'E'] = 1\n",
    "    survival_df.loc[idx_event, 'T'] = survival_df['event_time_from_index']\n",
    "    survival_df.loc[~idx_event, 'E'] = 0\n",
    "    survival_df.loc[~idx_event, 'T'] = survival_df['earliest_censoring_time_from_index'] \n",
    "    survival_df['E'] = survival_df['E'].astype(int)\n",
    "    survival_df['T'] = survival_df['T'].replace(np.inf, 1000)\n",
    "    survival_df['T'] = survival_df['T'].astype(int)\n",
    "    survival_df.sort_values(['T'], inplace=True)\n",
    "    return survival_df[[id_col, 'E', 'T']]\n"
   ]
  },
  {
   "cell_type": "code",
   "execution_count": null,
   "metadata": {},
   "outputs": [],
   "source": [
    "doc_matrix = pd.read_csv('c:/corona_segal/merge_matrix_outcome_recovery.txt', sep=\"\\t\")"
   ]
  },
  {
   "cell_type": "code",
   "execution_count": null,
   "metadata": {},
   "outputs": [],
   "source": [
    "data_df = doc_matrix.reset_index().copy()\n",
    "\n",
    "for col in ['death_date', 'test_date','recover_date','censor_date']:\n",
    "    data_df.loc[:,col].replace(-9,np.nan, inplace=True)\n",
    "    data_df.loc[:,col] = pd.to_datetime(data_df[col], format='%Y%m%d')\n",
    "\n",
    "MAX_DATE = data_df[['death_date', 'test_date','recover_date']].max().max()\n",
    "MIN_DATE = data_df[['death_date', 'test_date','recover_date']].min().min()\n",
    "\n",
    "data_df['pos_test_date'] = data_df['recover_date']\n",
    "data_df.loc[(data_df['recover_ind']!=1), 'pos_test_date'] = np.nan\n",
    "\n",
    "data_df['neg_test_date'] = data_df['censor_date']\n",
    "data_df.loc[(data_df['recover_ind']>0), 'neg_test_date'] = np.nan\n",
    "\n",
    "for col in ['test_date', 'pos_test_date', 'neg_test_date','recover_date','censor_date']:\n",
    "    data_df.loc[:,col+'_T'] = (data_df.loc[:,col] -  MIN_DATE).dt.days"
   ]
  },
  {
   "cell_type": "code",
   "execution_count": null,
   "metadata": {},
   "outputs": [],
   "source": [
    "data_df['Date_adjustment'] = (data_df['test_date']-MIN_DATE)/np.timedelta64(1,'D')"
   ]
  },
  {
   "cell_type": "code",
   "execution_count": null,
   "metadata": {},
   "outputs": [],
   "source": [
    "def prepare_time_to_pos_test_surv_df(data_df, followup_max_time_from_index=60, censoring_time_col=None):  \n",
    "    \n",
    "    surv_df = create_survival_data(data_df,\n",
    "                     id_col='index', index_time_col='test_date_T', outcome_time_col='pos_test_date_T',\n",
    "                     followup_end_time=(MAX_DATE-MIN_DATE).days, followup_max_time_from_index=60,\n",
    "                                   censoring_time_col=censoring_time_col)\n",
    "    surv_df = surv_df[surv_df['T']>=0]\n",
    "\n",
    "\n",
    "    symp_cols = [\n",
    "         'age', 'gender'\n",
    "    ]\n",
    "\n",
    "    surv_df = surv_df.merge(data_df[['index','id_disease','Date_adjustment','test_date','recover_ind','death_date','censor_date','recover_date']+symp_cols], on='index', how='left')\n",
    "    \n",
    "    return surv_df"
   ]
  },
  {
   "cell_type": "code",
   "execution_count": null,
   "metadata": {},
   "outputs": [],
   "source": [
    "surv_df = prepare_time_to_pos_test_surv_df(data_df, followup_max_time_from_index=60, censoring_time_col='neg_test_date_T')\n"
   ]
  },
  {
   "cell_type": "code",
   "execution_count": null,
   "metadata": {},
   "outputs": [],
   "source": [
    "surv_df['Children'] = np.where(surv_df['age']<18,1,0)\n",
    "surv_df['Adults'] = np.where(surv_df['age']>=18,1,0)"
   ]
  },
  {
   "cell_type": "code",
   "execution_count": null,
   "metadata": {},
   "outputs": [],
   "source": [
    "from lifelines import KaplanMeierFitter\n",
    "from lifelines.plotting import add_at_risk_counts\n",
    "kmf = KaplanMeierFitter()"
   ]
  },
  {
   "cell_type": "markdown",
   "metadata": {},
   "source": [
    "# Kaplan Meier"
   ]
  },
  {
   "cell_type": "code",
   "execution_count": null,
   "metadata": {},
   "outputs": [],
   "source": [
    "symp_col1='Children'\n",
    "symp_col2='Adults'\n",
    "\n",
    "ax=None\n",
    "\n",
    "kmf_0 = KaplanMeierFitter()\n",
    "kmf_0.fit(surv_df.loc[surv_df[symp_col1]==1, 'T'], surv_df.loc[surv_df[symp_col1]==1, 'E'], label=f'{symp_col1}')\n",
    "\n",
    "kmf_1 = KaplanMeierFitter()\n",
    "kmf_1.fit(surv_df.loc[surv_df[symp_col2]==1, 'T'], surv_df.loc[surv_df[symp_col2]==1, 'E'], label=f'{symp_col2}')\n",
    "\n",
    "\n",
    "if ax is None:\n",
    "    fig, ax = plt.subplots(1,1,figsize=(8,6),dpi=100)\n",
    "kmf_0.plot(ax=ax)\n",
    "kmf_1.plot(ax=ax)\n",
    "\n",
    "ax.set_xticks(np.arange(0,61,2))\n",
    "ax.set_yticks(np.arange(0,1.01,0.1))\n",
    "ax.legend()\n",
    "ax.set_title('Time To Recovery')\n",
    "\n",
    "\n",
    "fig.tight_layout()"
   ]
  },
  {
   "cell_type": "code",
   "execution_count": null,
   "metadata": {},
   "outputs": [],
   "source": [
    "symp_col1='Male'\n",
    "symp_col2='Female'\n",
    "gender_col = 'gender'\n",
    "\n",
    "ax=None\n",
    "\n",
    "kmf_0 = KaplanMeierFitter()\n",
    "kmf_0.fit(surv_df.loc[surv_df[gender_col]==0, 'T'], surv_df.loc[surv_df[gender_col]==0, 'E'], label=f'{symp_col1}')\n",
    "\n",
    "kmf_1 = KaplanMeierFitter()\n",
    "kmf_1.fit(surv_df.loc[surv_df[gender_col]==1, 'T'], surv_df.loc[surv_df[gender_col]==1, 'E'], label=f'{symp_col2}')\n",
    "\n",
    "\n",
    "if ax is None:\n",
    "    fig, ax = plt.subplots(1,1,figsize=(8,6),dpi=100)\n",
    "kmf_0.plot(ax=ax)\n",
    "kmf_1.plot(ax=ax)\n",
    "\n",
    "ax.set_xticks(np.arange(0,61,2))\n",
    "ax.set_yticks(np.arange(0,1.01,0.1))\n",
    "#add_at_risk_counts(kmf_0, kmf_1, ax=ax)\n",
    "ax.legend()\n",
    "ax.set_title('Time To Recovery')\n",
    "\n",
    "\n",
    "fig.tight_layout()"
   ]
  },
  {
   "cell_type": "markdown",
   "metadata": {},
   "source": [
    "## Cox"
   ]
  },
  {
   "cell_type": "code",
   "execution_count": null,
   "metadata": {},
   "outputs": [],
   "source": [
    "surv_df['Female'] = surv_df['gender']\n",
    "surv_df['Presence of a chronic medical condition'] = surv_df['id_disease']"
   ]
  },
  {
   "cell_type": "code",
   "execution_count": null,
   "metadata": {},
   "outputs": [],
   "source": [
    "cph = CoxPHFitter()\n",
    "cph.fit(surv_df[['T', 'E','Presence of a chronic medical condition', 'Female','Date_adjustment', 'Children']],duration_col='T', event_col='E')\n",
    "orig_summary =  cph.summary"
   ]
  },
  {
   "cell_type": "code",
   "execution_count": null,
   "metadata": {},
   "outputs": [],
   "source": [
    "orig_summary.to_csv('c:/corona_segal/summary_recover.txt')"
   ]
  }
 ],
 "metadata": {
  "kernelspec": {
   "display_name": "Python 3",
   "language": "python",
   "name": "python3"
  },
  "language_info": {
   "codemirror_mode": {
    "name": "ipython",
    "version": 3
   },
   "file_extension": ".py",
   "mimetype": "text/x-python",
   "name": "python",
   "nbconvert_exporter": "python",
   "pygments_lexer": "ipython3",
   "version": "3.8.3"
  }
 },
 "nbformat": 4,
 "nbformat_minor": 2
}
